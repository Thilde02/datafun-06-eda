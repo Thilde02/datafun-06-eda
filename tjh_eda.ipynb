{
 "cells": [
  {
   "cell_type": "markdown",
   "metadata": {},
   "source": [
    "# Exploratory Data Analysis (EDA)\n",
    "**Author:** Tiffany\n",
    "**Repository:** datafun-06-EDA\n"
   ]
  },
  {
   "cell_type": "markdown",
   "metadata": {},
   "source": [
    "## Dataset: Netflix Titles\n",
    "This dataset contains information about movies and TV shows available on Netflix, including their genre, release year, rating, and description. It can be used to explore trends in streaming content over time.\n",
    "\n",
    "**Source:** [Kaggle - Netflix Titles](https://www.kaggle.com/shivamb/netflix-shows)\n"
   ]
  },
  {
   "cell_type": "code",
   "execution_count": null,
   "metadata": {
    "vscode": {
     "languageId": "plaintext"
    }
   },
   "outputs": [],
   "source": [
    "import pandas as pd\n",
    "import seaborn as sns\n",
    "import matplotlib.pyplot as plt\n",
    "\n",
    "# Set Seaborn style\n",
    "sns.set_theme()\n"
   ]
  }
 ],
 "metadata": {
  "language_info": {
   "name": "python"
  }
 },
 "nbformat": 4,
 "nbformat_minor": 2
}
